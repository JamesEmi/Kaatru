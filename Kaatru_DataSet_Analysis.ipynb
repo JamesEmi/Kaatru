{
  "nbformat": 4,
  "nbformat_minor": 0,
  "metadata": {
    "colab": {
      "name": "Kaatru DataSet Analysis.ipynb",
      "provenance": [],
      "collapsed_sections": []
    },
    "kernelspec": {
      "name": "python3",
      "display_name": "Python 3"
    },
    "language_info": {
      "name": "python"
    }
  },
  "cells": [
    {
      "cell_type": "markdown",
      "source": [
        "## Kaatru - An Analysis"
      ],
      "metadata": {
        "id": "34jmBkbXeo0A"
      }
    },
    {
      "cell_type": "markdown",
      "source": [
        "The problem statement requires the development of a \"a model to find the variables that are significant in the demand for shared bikes\", and also requires us to \"report appropriate metrics of your model evaluation\". Studying the dataset makes it clear that it is a regression problem - the dependent variable is `cnt` , denoting the demand for shared bikes. The independent variables can be termed \"features\", and this is essentially a problem of ascertaining feature importance. The higher the feature importance score, the more significant it in determining/predicting the dependent variable `cnt`."
      ],
      "metadata": {
        "id": "Ta17TZI7zJ8D"
      }
    },
    {
      "cell_type": "markdown",
      "source": [
        "A basic exploratory study of the dataset was done on Google Sheets - using Pearson's correlation coefficient and scatter plot graphs. This study was purely meant to visualise and understand trends in the dataset. This was done through individual scatter plots - plotting each feature like `yr` and `temp` against the `cnt` variable. Please [see this doc here](https://docs.google.com/spreadsheets/d/1WUwKtA9XK-rnY-FjhgkuIGdV4pS_wpWCO5aCNf1jSHM/edit?usp=sharing).\n",
        "From this basic analysis, it can be seen that features `yr`, `temp`, and `atemp` can be considered important, due to their considerably high PPMC values. We can investigate this matter deeper using advanced tools from the scikit-learn library."
      ],
      "metadata": {
        "id": "UukuDIL3Keix"
      }
    },
    {
      "cell_type": "markdown",
      "source": [
        "A random forest model is to be created to perform feature importance study. First, we’ll import all the required libraries and our dataset:"
      ],
      "metadata": {
        "id": "ieKKK9NoKc3a"
      }
    },
    {
      "cell_type": "code",
      "execution_count": 1,
      "metadata": {
        "id": "U-1yPy57zI16"
      },
      "outputs": [],
      "source": [
        "import numpy as np\n",
        "import pandas as pd\n",
        "from sklearn.model_selection import train_test_split\n",
        "from sklearn.ensemble import RandomForestRegressor\n",
        "from sklearn.inspection import permutation_importance\n",
        "from matplotlib import pyplot as plt"
      ]
    },
    {
      "cell_type": "markdown",
      "source": [
        "The given dataset is saved as a .csv file and converted into a pandas dataframe. The `dteday` feature has been removed because each instance of it is unique - and hence it is far better to use `season`, `yr`, `mnth`, `holiday`, `weekday`, `workingday` as features to mark the time component."
      ],
      "metadata": {
        "id": "JV2hJnmV0NNL"
      }
    },
    {
      "cell_type": "code",
      "source": [
        "Kaatru_data = pd.read_csv('/content/Kaatru DataSet.csv', index_col=False)\n",
        "Kaatru_data.head()"
      ],
      "metadata": {
        "id": "MCaFu0RJ1jRJ"
      },
      "execution_count": null,
      "outputs": []
    },
    {
      "cell_type": "code",
      "source": [
        "print(Kaatru_data)"
      ],
      "metadata": {
        "id": "7rJgzW_A12I0"
      },
      "execution_count": null,
      "outputs": []
    },
    {
      "cell_type": "markdown",
      "source": [
        "List of features in the `Kaatru_data` dataframe:"
      ],
      "metadata": {
        "id": "BWL2sid3RQ0J"
      }
    },
    {
      "cell_type": "code",
      "source": [
        "Kaatru_data.columns.values"
      ],
      "metadata": {
        "colab": {
          "base_uri": "https://localhost:8080/"
        },
        "id": "Lkp80Squ-Kx0",
        "outputId": "96f6e4ba-c8e3-4417-f510-841b8833cdfb"
      },
      "execution_count": 4,
      "outputs": [
        {
          "output_type": "execute_result",
          "data": {
            "text/plain": [
              "array(['season', 'yr', 'mnth', 'holiday', 'weekday', 'workingday',\n",
              "       'weathersit', 'temp', 'atemp', 'hum', 'windspeed', 'cnt'],\n",
              "      dtype=object)"
            ]
          },
          "metadata": {},
          "execution_count": 4
        }
      ]
    },
    {
      "cell_type": "markdown",
      "source": [
        "For the sake of convenience, another dataframe named `Kaatru_Xdata` is defined, which is devoid of the `cnt` data column."
      ],
      "metadata": {
        "id": "dua5p4akR4yw"
      }
    },
    {
      "cell_type": "code",
      "source": [
        "Kaatru_Xdata = pd.read_csv('/content/Kaatru XDataSet.csv', index_col=False)\n",
        "Kaatru_Xdata.head()"
      ],
      "metadata": {
        "colab": {
          "base_uri": "https://localhost:8080/",
          "height": 206
        },
        "id": "KqadMiB3-8-0",
        "outputId": "fe782329-bca1-4f01-b8b7-450614dfcf3c"
      },
      "execution_count": 22,
      "outputs": [
        {
          "output_type": "execute_result",
          "data": {
            "text/plain": [
              "   season  yr  mnth  holiday  weekday  workingday  weathersit       temp  \\\n",
              "0       1   0     1        0        1           1           2  14.110847   \n",
              "1       1   0     1        0        2           1           2  14.902598   \n",
              "2       1   0     1        0        3           1           1   8.050924   \n",
              "3       1   0     1        0        4           1           1   8.200000   \n",
              "4       1   0     1        0        5           1           1   9.305237   \n",
              "\n",
              "      atemp      hum  windspeed  \n",
              "0  18.18125  80.5833  10.749882  \n",
              "1  17.68695  69.6087  16.652113  \n",
              "2   9.47025  43.7273  16.636703  \n",
              "3  10.60610  59.0435  10.739832  \n",
              "4  11.46350  43.6957  12.522300  "
            ],
            "text/html": [
              "\n",
              "  <div id=\"df-d0bec70e-8727-40e9-a6ef-3d7f3b5d89fc\">\n",
              "    <div class=\"colab-df-container\">\n",
              "      <div>\n",
              "<style scoped>\n",
              "    .dataframe tbody tr th:only-of-type {\n",
              "        vertical-align: middle;\n",
              "    }\n",
              "\n",
              "    .dataframe tbody tr th {\n",
              "        vertical-align: top;\n",
              "    }\n",
              "\n",
              "    .dataframe thead th {\n",
              "        text-align: right;\n",
              "    }\n",
              "</style>\n",
              "<table border=\"1\" class=\"dataframe\">\n",
              "  <thead>\n",
              "    <tr style=\"text-align: right;\">\n",
              "      <th></th>\n",
              "      <th>season</th>\n",
              "      <th>yr</th>\n",
              "      <th>mnth</th>\n",
              "      <th>holiday</th>\n",
              "      <th>weekday</th>\n",
              "      <th>workingday</th>\n",
              "      <th>weathersit</th>\n",
              "      <th>temp</th>\n",
              "      <th>atemp</th>\n",
              "      <th>hum</th>\n",
              "      <th>windspeed</th>\n",
              "    </tr>\n",
              "  </thead>\n",
              "  <tbody>\n",
              "    <tr>\n",
              "      <th>0</th>\n",
              "      <td>1</td>\n",
              "      <td>0</td>\n",
              "      <td>1</td>\n",
              "      <td>0</td>\n",
              "      <td>1</td>\n",
              "      <td>1</td>\n",
              "      <td>2</td>\n",
              "      <td>14.110847</td>\n",
              "      <td>18.18125</td>\n",
              "      <td>80.5833</td>\n",
              "      <td>10.749882</td>\n",
              "    </tr>\n",
              "    <tr>\n",
              "      <th>1</th>\n",
              "      <td>1</td>\n",
              "      <td>0</td>\n",
              "      <td>1</td>\n",
              "      <td>0</td>\n",
              "      <td>2</td>\n",
              "      <td>1</td>\n",
              "      <td>2</td>\n",
              "      <td>14.902598</td>\n",
              "      <td>17.68695</td>\n",
              "      <td>69.6087</td>\n",
              "      <td>16.652113</td>\n",
              "    </tr>\n",
              "    <tr>\n",
              "      <th>2</th>\n",
              "      <td>1</td>\n",
              "      <td>0</td>\n",
              "      <td>1</td>\n",
              "      <td>0</td>\n",
              "      <td>3</td>\n",
              "      <td>1</td>\n",
              "      <td>1</td>\n",
              "      <td>8.050924</td>\n",
              "      <td>9.47025</td>\n",
              "      <td>43.7273</td>\n",
              "      <td>16.636703</td>\n",
              "    </tr>\n",
              "    <tr>\n",
              "      <th>3</th>\n",
              "      <td>1</td>\n",
              "      <td>0</td>\n",
              "      <td>1</td>\n",
              "      <td>0</td>\n",
              "      <td>4</td>\n",
              "      <td>1</td>\n",
              "      <td>1</td>\n",
              "      <td>8.200000</td>\n",
              "      <td>10.60610</td>\n",
              "      <td>59.0435</td>\n",
              "      <td>10.739832</td>\n",
              "    </tr>\n",
              "    <tr>\n",
              "      <th>4</th>\n",
              "      <td>1</td>\n",
              "      <td>0</td>\n",
              "      <td>1</td>\n",
              "      <td>0</td>\n",
              "      <td>5</td>\n",
              "      <td>1</td>\n",
              "      <td>1</td>\n",
              "      <td>9.305237</td>\n",
              "      <td>11.46350</td>\n",
              "      <td>43.6957</td>\n",
              "      <td>12.522300</td>\n",
              "    </tr>\n",
              "  </tbody>\n",
              "</table>\n",
              "</div>\n",
              "      <button class=\"colab-df-convert\" onclick=\"convertToInteractive('df-d0bec70e-8727-40e9-a6ef-3d7f3b5d89fc')\"\n",
              "              title=\"Convert this dataframe to an interactive table.\"\n",
              "              style=\"display:none;\">\n",
              "        \n",
              "  <svg xmlns=\"http://www.w3.org/2000/svg\" height=\"24px\"viewBox=\"0 0 24 24\"\n",
              "       width=\"24px\">\n",
              "    <path d=\"M0 0h24v24H0V0z\" fill=\"none\"/>\n",
              "    <path d=\"M18.56 5.44l.94 2.06.94-2.06 2.06-.94-2.06-.94-.94-2.06-.94 2.06-2.06.94zm-11 1L8.5 8.5l.94-2.06 2.06-.94-2.06-.94L8.5 2.5l-.94 2.06-2.06.94zm10 10l.94 2.06.94-2.06 2.06-.94-2.06-.94-.94-2.06-.94 2.06-2.06.94z\"/><path d=\"M17.41 7.96l-1.37-1.37c-.4-.4-.92-.59-1.43-.59-.52 0-1.04.2-1.43.59L10.3 9.45l-7.72 7.72c-.78.78-.78 2.05 0 2.83L4 21.41c.39.39.9.59 1.41.59.51 0 1.02-.2 1.41-.59l7.78-7.78 2.81-2.81c.8-.78.8-2.07 0-2.86zM5.41 20L4 18.59l7.72-7.72 1.47 1.35L5.41 20z\"/>\n",
              "  </svg>\n",
              "      </button>\n",
              "      \n",
              "  <style>\n",
              "    .colab-df-container {\n",
              "      display:flex;\n",
              "      flex-wrap:wrap;\n",
              "      gap: 12px;\n",
              "    }\n",
              "\n",
              "    .colab-df-convert {\n",
              "      background-color: #E8F0FE;\n",
              "      border: none;\n",
              "      border-radius: 50%;\n",
              "      cursor: pointer;\n",
              "      display: none;\n",
              "      fill: #1967D2;\n",
              "      height: 32px;\n",
              "      padding: 0 0 0 0;\n",
              "      width: 32px;\n",
              "    }\n",
              "\n",
              "    .colab-df-convert:hover {\n",
              "      background-color: #E2EBFA;\n",
              "      box-shadow: 0px 1px 2px rgba(60, 64, 67, 0.3), 0px 1px 3px 1px rgba(60, 64, 67, 0.15);\n",
              "      fill: #174EA6;\n",
              "    }\n",
              "\n",
              "    [theme=dark] .colab-df-convert {\n",
              "      background-color: #3B4455;\n",
              "      fill: #D2E3FC;\n",
              "    }\n",
              "\n",
              "    [theme=dark] .colab-df-convert:hover {\n",
              "      background-color: #434B5C;\n",
              "      box-shadow: 0px 1px 3px 1px rgba(0, 0, 0, 0.15);\n",
              "      filter: drop-shadow(0px 1px 2px rgba(0, 0, 0, 0.3));\n",
              "      fill: #FFFFFF;\n",
              "    }\n",
              "  </style>\n",
              "\n",
              "      <script>\n",
              "        const buttonEl =\n",
              "          document.querySelector('#df-d0bec70e-8727-40e9-a6ef-3d7f3b5d89fc button.colab-df-convert');\n",
              "        buttonEl.style.display =\n",
              "          google.colab.kernel.accessAllowed ? 'block' : 'none';\n",
              "\n",
              "        async function convertToInteractive(key) {\n",
              "          const element = document.querySelector('#df-d0bec70e-8727-40e9-a6ef-3d7f3b5d89fc');\n",
              "          const dataTable =\n",
              "            await google.colab.kernel.invokeFunction('convertToInteractive',\n",
              "                                                     [key], {});\n",
              "          if (!dataTable) return;\n",
              "\n",
              "          const docLinkHtml = 'Like what you see? Visit the ' +\n",
              "            '<a target=\"_blank\" href=https://colab.research.google.com/notebooks/data_table.ipynb>data table notebook</a>'\n",
              "            + ' to learn more about interactive tables.';\n",
              "          element.innerHTML = '';\n",
              "          dataTable['output_type'] = 'display_data';\n",
              "          await google.colab.output.renderOutput(dataTable, element);\n",
              "          const docLink = document.createElement('div');\n",
              "          docLink.innerHTML = docLinkHtml;\n",
              "          element.appendChild(docLink);\n",
              "        }\n",
              "      </script>\n",
              "    </div>\n",
              "  </div>\n",
              "  "
            ]
          },
          "metadata": {},
          "execution_count": 22
        }
      ]
    },
    {
      "cell_type": "markdown",
      "source": [
        "Below, the dataset is loaded into appropriate variables `X` and `y`."
      ],
      "metadata": {
        "id": "onpw_rFhSk9I"
      }
    },
    {
      "cell_type": "code",
      "source": [
        "Kaatru_data = Kaatru_data.reset_index()\n",
        "Kaatru_Xdata = Kaatru_Xdata.reset_index()"
      ],
      "metadata": {
        "id": "82S_xyUQXg7c"
      },
      "execution_count": 23,
      "outputs": []
    },
    {
      "cell_type": "code",
      "source": [
        "X = pd.DataFrame(Kaatru_Xdata.iloc[:,[1,2,3,4,5,6,7,8,9,10,11]], columns=Kaatru_Xdata.columns[1:12].values)\n",
        "#Accessing all columns in Kaatru_Xdata using iloc (except index column, with index 0)\n",
        "#Assigning column names\n",
        "y = Kaatru_data.loc[:,\"cnt\"] #cnt data here"
      ],
      "metadata": {
        "id": "AFq84-eV9ESf"
      },
      "execution_count": 29,
      "outputs": []
    },
    {
      "cell_type": "code",
      "source": [
        "print(X)"
      ],
      "metadata": {
        "id": "Y9mrmnuGDOvq"
      },
      "execution_count": null,
      "outputs": []
    },
    {
      "cell_type": "markdown",
      "source": [
        "The arrays with the loaded data are split into test and training sets."
      ],
      "metadata": {
        "id": "8EAVulV5S3rI"
      }
    },
    {
      "cell_type": "code",
      "source": [
        "X_train, X_test, y_train, y_test = train_test_split(X, y, test_size=0.25, random_state=42)"
      ],
      "metadata": {
        "id": "SaSiynZuBgN4"
      },
      "execution_count": 13,
      "outputs": []
    },
    {
      "cell_type": "markdown",
      "source": [
        "The below code-block fits the random forest model onto the training data:"
      ],
      "metadata": {
        "id": "4FSHmOShTBGQ"
      }
    },
    {
      "cell_type": "code",
      "source": [
        "rf = RandomForestRegressor(n_estimators=150)\n",
        "#n_estimators value should be optimal to prevent underfitting & overfitting\n",
        "rf.fit(X_train, y_train)"
      ],
      "metadata": {
        "colab": {
          "base_uri": "https://localhost:8080/"
        },
        "id": "Gk7gYsKlCQ5n",
        "outputId": "73aa8428-bfe7-483b-ff9a-ad0ba47e5b87"
      },
      "execution_count": 14,
      "outputs": [
        {
          "output_type": "execute_result",
          "data": {
            "text/plain": [
              "RandomForestRegressor(n_estimators=150)"
            ]
          },
          "metadata": {},
          "execution_count": 14
        }
      ]
    },
    {
      "cell_type": "markdown",
      "source": [
        "Now that the model is created, the feature importance values are pulled from it, and plotted.\n",
        "\n"
      ],
      "metadata": {
        "id": "sQ2-wqlmTXhk"
      }
    },
    {
      "cell_type": "code",
      "source": [
        "print(rf.feature_importances_)\n",
        "total = sum(rf.feature_importances_)\n",
        "print(total)"
      ],
      "metadata": {
        "id": "cKrKfUJiGAkn"
      },
      "execution_count": null,
      "outputs": []
    },
    {
      "cell_type": "code",
      "source": [
        "sort = rf.feature_importances_.argsort()\n",
        "plt.barh(Kaatru_Xdata.columns[1:12].values[sort], rf.feature_importances_[sort])\n",
        "plt.xlabel(\"Feature Importance\")"
      ],
      "metadata": {
        "colab": {
          "base_uri": "https://localhost:8080/",
          "height": 296
        },
        "id": "qrg_sq3eE6Hs",
        "outputId": "57971258-92d1-461a-f239-1a8ab7962a53"
      },
      "execution_count": 37,
      "outputs": [
        {
          "output_type": "execute_result",
          "data": {
            "text/plain": [
              "Text(0.5, 0, 'Feature Importance')"
            ]
          },
          "metadata": {},
          "execution_count": 37
        },
        {
          "output_type": "display_data",
          "data": {
            "text/plain": [
              "<Figure size 432x288 with 1 Axes>"
            ],
            "image/png": "[encoded data removed]"
          },
          "metadata": {
            "needs_background": "light"
          }
        }
      ]
    },
    {
      "cell_type": "markdown",
      "source": [
        "This graph shows a plot of the feature importance values - they add up to a total of 1, and represent the relative significance of the independent variables in determining/predicting the dependent variable.\n",
        "This feature importance metric is called \"Gini importance\" (or 'mean decrease impurity'). According to this metric, the top 3 features seem to be `temp`, `yr`, and `atemp`. Variables `season` and `hum` come in next in importance."
      ],
      "metadata": {
        "id": "RTYg2ZHKQcxN"
      }
    },
    {
      "cell_type": "markdown",
      "source": [
        "Now, let's try two other ways of scoring feature importance, and see how they compare with each other and with the results from random forest. For regression, we have F-test and mutual information:\n",
        "\n",
        "Mutual information measures mutual dependence between two variables by quantifying the amount of information obtained from one by observing the other. This is calculated through the KL divergence between the joint distribution and the product of the marginal distributions.\n",
        "\n",
        "F-test for ANOVA analyzes how the variance of a variable across the values of another variable compares to itself. If it varies with a significant level, then some values of the second variable are responsible for a considerable part of the variance of the first one, while other values less so.\n",
        "\n",
        "Methods based on the F-test estimate linear dependency between variables and are therefore prone to disregard alinear relationships. Mutual information does not fall into this, but requires more samples to work properly.\n",
        "\n"
      ],
      "metadata": {
        "id": "6FzhA2VCUHXf"
      }
    },
    {
      "cell_type": "markdown",
      "source": [
        "Below, the `Kaatru_data` dataframe is normalised/standardised, so as to remove the possiblity of skewed results due to different features being on different scales."
      ],
      "metadata": {
        "id": "Q3KfqrxaZKTd"
      }
    },
    {
      "cell_type": "markdown",
      "source": [
        "`Kaatru_data normalised`, is named `normal_data` in the above codeblock."
      ],
      "metadata": {
        "id": "WChKmhtd31we"
      }
    },
    {
      "cell_type": "code",
      "source": [
        "normal_data = normal_data.drop('index', axis=1)"
      ],
      "metadata": {
        "id": "rkw3EM0Ia4Qj"
      },
      "execution_count": 34,
      "outputs": []
    },
    {
      "cell_type": "code",
      "source": [
        "from sklearn.feature_selection import SelectKBest, f_regression\n",
        "\n",
        "anova_filter_reg = SelectKBest(f_regression, k=5)\n",
        "anova_filter_reg.fit(normal_data.drop([\"cnt\"], axis=1),\n",
        "                     normal_data[\"cnt\"])\n",
        "\n",
        "for i in anova_filter_reg.get_support(indices=True):\n",
        "    print(normal_data.columns[i])\n",
        "\n",
        "print(anova_filter_reg.scores_)\n",
        "plt.barh(normal_data.columns[0:11].values[sort], anova_filter_reg.scores_[sort])\n",
        "plt.xlabel(\"Feature Importance\")"
      ],
      "metadata": {
        "colab": {
          "base_uri": "https://localhost:8080/",
          "height": 435
        },
        "id": "L_xqB9Q-xSxy",
        "outputId": "ee380eee-c558-41bf-ea9f-8eea9e5104e0"
      },
      "execution_count": 53,
      "outputs": [
        {
          "output_type": "stream",
          "name": "stdout",
          "text": [
            "season\n",
            "yr\n",
            "weathersit\n",
            "temp\n",
            "atemp\n",
            "[142.48856573 349.8646524   61.06596762   3.45866847   0.95433134\n",
            "   0.55659014  69.8727044  471.70512519 480.82845154   7.13871076\n",
            "  42.60464256]\n"
          ]
        },
        {
          "output_type": "execute_result",
          "data": {
            "text/plain": [
              "Text(0.5, 0, 'Feature Importance')"
            ]
          },
          "metadata": {},
          "execution_count": 53
        },
        {
          "output_type": "display_data",
          "data": {
            "text/plain": [
              "<Figure size 432x288 with 1 Axes>"
            ],
            "image/png": "[encoded data removed]"
          },
          "metadata": {
            "needs_background": "light"
          }
        }
      ]
    },
    {
      "cell_type": "markdown",
      "source": [
        "This tells us that the important variables according to F-test are `atemp`, `temp`, `yr`, and `season` (which concurs with what we saw while looking at the correlation??)"
      ],
      "metadata": {
        "id": "iJztvUbtybC6"
      }
    },
    {
      "cell_type": "code",
      "source": [
        "from sklearn.feature_selection import mutual_info_regression\n",
        "mi_filter_reg = SelectKBest(mutual_info_regression, k=5)\n",
        "mi_filter_reg.fit(normal_data.drop([\"cnt\"], axis=1),\n",
        "                  normal_data[\"cnt\"])\n",
        "\n",
        "for i in mi_filter_reg.get_support(indices=True):\n",
        "    print(normal_data.columns[i])\n",
        "\n",
        "print(mi_filter_reg.scores_)\n",
        "plt.barh(normal_data.columns[0:11].values[sort], anova_filter_reg.scores_[sort])\n",
        "plt.xlabel(\"Feature Importance\")"
      ],
      "metadata": {
        "colab": {
          "base_uri": "https://localhost:8080/",
          "height": 418
        },
        "id": "1_R6kaRHyY6B",
        "outputId": "53887a06-60ea-4791-cd68-200d34149838"
      },
      "execution_count": 54,
      "outputs": [
        {
          "output_type": "stream",
          "name": "stdout",
          "text": [
            "season\n",
            "yr\n",
            "mnth\n",
            "temp\n",
            "atemp\n",
            "[0.21707562 0.2744131  0.37248867 0.01110804 0.06588289 0.\n",
            " 0.06431194 0.39044838 0.4663901  0.04450571 0.05678385]\n"
          ]
        },
        {
          "output_type": "execute_result",
          "data": {
            "text/plain": [
              "Text(0.5, 0, 'Feature Importance')"
            ]
          },
          "metadata": {},
          "execution_count": 54
        },
        {
          "output_type": "display_data",
          "data": {
            "text/plain": [
              "<Figure size 432x288 with 1 Axes>"
            ],
            "image/png": "[encoded data removed]"
          },
          "metadata": {
            "needs_background": "light"
          }
        }
      ]
    },
    {
      "cell_type": "markdown",
      "source": [
        "This tells us that the important variables according to mutual information method, are `atemp`, `temp`, `yr`, and `season`. This corroborates the F-test results, and increases confidence in the earlier idea that these are the important features for determining `cnt`."
      ],
      "metadata": {
        "id": "Py7uA4MK0kGu"
      }
    },
    {
      "cell_type": "markdown",
      "source": [
        "Now we could try to fit a random forest model on the normalised data `normal data` and see if the feature importance changes."
      ],
      "metadata": {
        "id": "zweuV5NB0_vw"
      }
    },
    {
      "cell_type": "code",
      "source": [
        "X_normal = pd.DataFrame(normal_data.iloc[:,[0,1,2,3,4,5,6,7,8,9,10,11]], columns=normal_data.columns[0:11].values)\n",
        "#Accessing all columns in Kaatru_Xdata using iloc (except index column, with index 0)\n",
        "#Understand why only using [1:12] in column index lets access all 11 columns?? that's how basic array indexing works. (Drill it)\n",
        "#Assigning column names\n",
        "y_normal = normal_data.loc[:,\"cnt\"] #cnt data here"
      ],
      "metadata": {
        "id": "uxcjptey3eXR"
      },
      "execution_count": 55,
      "outputs": []
    },
    {
      "cell_type": "code",
      "source": [
        "print(X_normal)"
      ],
      "metadata": {
        "colab": {
          "base_uri": "https://localhost:8080/"
        },
        "id": "ozZeEubr3mN6",
        "outputId": "080ca7c2-e337-49b5-9a15-a967ebddc98d"
      },
      "execution_count": 42,
      "outputs": [
        {
          "output_type": "stream",
          "name": "stdout",
          "text": [
            "       season        yr      mnth   holiday   weekday  workingday  weathersit  \\\n",
            "0   -1.349893 -0.999315 -1.601647 -0.171984 -0.997776    0.669177    1.111365   \n",
            "1   -1.349893 -0.999315 -1.601647 -0.171984 -0.497861    0.669177    1.111365   \n",
            "2   -1.349893 -0.999315 -1.601647 -0.171984  0.002054    0.669177   -0.724147   \n",
            "3   -1.349893 -0.999315 -1.601647 -0.171984  0.501970    0.669177   -0.724147   \n",
            "4   -1.349893 -0.999315 -1.601647 -0.171984  1.001885    0.669177   -0.724147   \n",
            "..        ...       ...       ...       ...       ...         ...         ...   \n",
            "725 -1.349893  0.999315  1.586560 -0.171984  1.001885    0.669177    1.111365   \n",
            "726 -1.349893  0.999315  1.586560 -0.171984  1.501800   -1.492325    1.111365   \n",
            "727 -1.349893  0.999315  1.586560 -0.171984 -1.497691   -1.492325    1.111365   \n",
            "728 -1.349893  0.999315  1.586560 -0.171984 -0.997776    0.669177   -0.724147   \n",
            "729 -1.349893  0.999315  1.586560 -0.171984 -0.497861    0.669177    1.111365   \n",
            "\n",
            "         temp     atemp       hum  windspeed  \n",
            "0   -0.827046 -0.680351  1.251485  -0.387567  \n",
            "1   -0.721574 -0.740999  0.480666   0.748386  \n",
            "2   -1.634312 -1.749145 -1.337156   0.745420  \n",
            "3   -1.614453 -1.609782 -0.261398  -0.389501  \n",
            "4   -1.467220 -1.504584 -1.339375  -0.046445  \n",
            "..        ...       ...       ...        ...  \n",
            "725 -1.318605 -1.520706  0.177455   2.058433  \n",
            "726 -1.323160 -1.346455 -0.264453  -0.451719  \n",
            "727 -1.323160 -1.424035  0.879821  -0.852597  \n",
            "728 -1.309506 -1.489677 -1.013646   2.066441  \n",
            "729 -1.527977 -1.540061 -0.352249  -0.459779  \n",
            "\n",
            "[730 rows x 11 columns]\n"
          ]
        }
      ]
    },
    {
      "cell_type": "code",
      "source": [
        "X_train_norm, X_test_norm, y_train_norm, y_test_norm = train_test_split(X_normal, y_normal, test_size=0.25, random_state=42)"
      ],
      "metadata": {
        "id": "Q-nsGJC14oYc"
      },
      "execution_count": 43,
      "outputs": []
    },
    {
      "cell_type": "code",
      "source": [
        "rf = RandomForestRegressor(n_estimators=150)\n",
        "rf.fit(X_train_norm, y_train_norm)"
      ],
      "metadata": {
        "colab": {
          "base_uri": "https://localhost:8080/"
        },
        "id": "548BAPaZ40ae",
        "outputId": "62492ab3-de06-46dc-c3f9-66ff7539503b"
      },
      "execution_count": 45,
      "outputs": [
        {
          "output_type": "execute_result",
          "data": {
            "text/plain": [
              "RandomForestRegressor(n_estimators=150)"
            ]
          },
          "metadata": {},
          "execution_count": 45
        }
      ]
    },
    {
      "cell_type": "code",
      "source": [
        "print(rf.feature_importances_)\n",
        "total = sum(rf.feature_importances_)\n",
        "print(total)"
      ],
      "metadata": {
        "colab": {
          "base_uri": "https://localhost:8080/"
        },
        "id": "FVYZbt7F48D9",
        "outputId": "d381b7af-7ab9-4986-99b2-d0988caa513b"
      },
      "execution_count": 46,
      "outputs": [
        {
          "output_type": "stream",
          "name": "stdout",
          "text": [
            "[0.06572655 0.27553903 0.026527   0.00336918 0.01198568 0.00316598\n",
            " 0.01898758 0.32918744 0.17149999 0.06214989 0.03186168]\n",
            "1.0\n"
          ]
        }
      ]
    },
    {
      "cell_type": "code",
      "source": [
        "sort = rf.feature_importances_.argsort()\n",
        "plt.barh(normal_data.columns[0:11].values[sort], rf.feature_importances_[sort])\n",
        "plt.xlabel(\"Feature Importance\")"
      ],
      "metadata": {
        "colab": {
          "base_uri": "https://localhost:8080/",
          "height": 296
        },
        "id": "icVHWxkg4_n7",
        "outputId": "bc17cd2c-ed57-48d1-c312-7d7fe53403a1"
      },
      "execution_count": 48,
      "outputs": [
        {
          "output_type": "execute_result",
          "data": {
            "text/plain": [
              "Text(0.5, 0, 'Feature Importance')"
            ]
          },
          "metadata": {},
          "execution_count": 48
        },
        {
          "output_type": "display_data",
          "data": {
            "text/plain": [
              "<Figure size 432x288 with 1 Axes>"
            ],
            "image/png": "[encoded data removed]"
          },
          "metadata": {
            "needs_background": "light"
          }
        }
      ]
    },
    {
      "cell_type": "markdown",
      "source": [
        "The important variables according to this analysis, are primarily `temp`, `yr` and `atemp`, followed by `season` and `hum`."
      ],
      "metadata": {
        "id": "HL63DenO_IN5"
      }
    },
    {
      "cell_type": "markdown",
      "source": [
        "Three different modes have been employed in this analysis so as to cross-check the accuracy of feature importance order. The convergent solution suggests that `temp`, `atemp`, and `yr` are the top 3 most important features in this dataset, that predict for `cnt`. Among these 3 the exact order of importance is unclear; since the 3 different analyses lead to slight different ranks. A more accurate importance rank can be assigned after model accuracy is increased throguh hyperparameter tuning. As of now, however, this analysis answers the given problem statement.\n",
        "\n",
        "Thanks for reading!"
      ],
      "metadata": {
        "id": "DzeNi7sec_R1"
      }
    }
  ]
}