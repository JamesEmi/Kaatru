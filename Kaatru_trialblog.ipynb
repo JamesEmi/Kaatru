{
 "cells": [
  {
   "cell_type": "markdown",
   "metadata": {
    "id": "34jmBkbXeo0A"
   },
   "source": [
    "## Kaatru Data - An Analysis"
   ]
  },
  {
   "cell_type": "markdown",
   "metadata": {
    "id": "Ta17TZI7zJ8D"
   },
   "source": [
    "The problem statement requires the development of a \"model to find the variables that are significant in the demand for shared bikes\", and also requires us to \"report appropriate metrics of your model evaluation\". Studying the dataset makes it clear that it is a regression problem - the dependent variable is `cnt` , denoting the demand for shared bikes. The independent variables can be termed \"features\", and this is essentially a problem of ascertaining feature importance. The higher the feature importance score, the more significant it in determining/predicting the dependent variable `cnt`."
   ]
  },
  {
   "cell_type": "markdown",
   "metadata": {
    "id": "UukuDIL3Keix"
   },
   "source": [
    "A basic exploratory study of the dataset was done on Google Sheets - using Pearson's correlation coefficient and scatter plot graphs. This study was purely meant to visualise and understand trends in the dataset. This was done through individual scatter plots - plotting each feature like `yr` and `temp` against the `cnt` variable. Please [see this doc here](https://docs.google.com/spreadsheets/d/1WUwKtA9XK-rnY-FjhgkuIGdV4pS_wpWCO5aCNf1jSHM/edit?usp=sharing).\n",
    "From this basic analysis, it can be seen that features `yr`, `temp`, and `atemp` can be considered important, due to their considerably high PPMC values. We can investigate this matter deeper using advanced tools from the scikit-learn library."
   ]
  },
  {
   "cell_type": "markdown",
   "metadata": {
    "id": "S6b4Ex2G7eRd"
   },
   "source": [
    "### Analysis using Random Forest model:"
   ]
  },
  {
   "cell_type": "markdown",
   "metadata": {
    "id": "ieKKK9NoKc3a"
   },
   "source": [
    "A random forest model is to be created to perform feature importance study. First, we’ll import all the required libraries and our dataset:"
   ]
  },
  {
   "cell_type": "code",
   "execution_count": 1,
   "metadata": {
    "id": "U-1yPy57zI16"
   },
   "outputs": [],
   "source": [
    "import numpy as np\n",
    "import pandas as pd\n",
    "from sklearn.model_selection import train_test_split\n",
    "from sklearn.ensemble import RandomForestRegressor\n",
    "from sklearn.inspection import permutation_importance\n",
    "from matplotlib import pyplot as plt"
   ]
  },
  {
   "cell_type": "markdown",
   "metadata": {
    "id": "JV2hJnmV0NNL"
   },
   "source": [
    "The given dataset is saved as a .csv file and converted into a pandas dataframe. The `dteday` feature has been removed because each instance of it is unique - and hence it is far better to use `season`, `yr`, `mnth`, `holiday`, `weekday`, `workingday` as features to mark the time component."
   ]
  },
  {
   "cell_type": "code",
   "execution_count": 2,
   "metadata": {
    "colab": {
     "base_uri": "https://localhost:8080/",
     "height": 206
    },
    "id": "MCaFu0RJ1jRJ",
    "outputId": "7e30802d-ea98-42f1-ac09-820bce2c3d32"
   },
   "outputs": [
    {
     "data": {
      "text/html": [
       "\n",
       "  <div id=\"df-cb39188b-c208-438a-9de8-94124707f157\">\n",
       "    <div class=\"colab-df-container\">\n",
       "      <div>\n",
       "<style scoped>\n",
       "    .dataframe tbody tr th:only-of-type {\n",
       "        vertical-align: middle;\n",
       "    }\n",
       "\n",
       "    .dataframe tbody tr th {\n",
       "        vertical-align: top;\n",
       "    }\n",
       "\n",
       "    .dataframe thead th {\n",
       "        text-align: right;\n",
       "    }\n",
       "</style>\n",
       "<table border=\"1\" class=\"dataframe\">\n",
       "  <thead>\n",
       "    <tr style=\"text-align: right;\">\n",
       "      <th></th>\n",
       "      <th>season</th>\n",
       "      <th>yr</th>\n",
       "      <th>mnth</th>\n",
       "      <th>holiday</th>\n",
       "      <th>weekday</th>\n",
       "      <th>workingday</th>\n",
       "      <th>weathersit</th>\n",
       "      <th>temp</th>\n",
       "      <th>atemp</th>\n",
       "      <th>hum</th>\n",
       "      <th>windspeed</th>\n",
       "      <th>cnt</th>\n",
       "    </tr>\n",
       "  </thead>\n",
       "  <tbody>\n",
       "    <tr>\n",
       "      <th>0</th>\n",
       "      <td>1</td>\n",
       "      <td>0</td>\n",
       "      <td>1</td>\n",
       "      <td>0</td>\n",
       "      <td>1</td>\n",
       "      <td>1</td>\n",
       "      <td>2</td>\n",
       "      <td>14.110847</td>\n",
       "      <td>18.18125</td>\n",
       "      <td>80.5833</td>\n",
       "      <td>10.749882</td>\n",
       "      <td>985</td>\n",
       "    </tr>\n",
       "    <tr>\n",
       "      <th>1</th>\n",
       "      <td>1</td>\n",
       "      <td>0</td>\n",
       "      <td>1</td>\n",
       "      <td>0</td>\n",
       "      <td>2</td>\n",
       "      <td>1</td>\n",
       "      <td>2</td>\n",
       "      <td>14.902598</td>\n",
       "      <td>17.68695</td>\n",
       "      <td>69.6087</td>\n",
       "      <td>16.652113</td>\n",
       "      <td>801</td>\n",
       "    </tr>\n",
       "    <tr>\n",
       "      <th>2</th>\n",
       "      <td>1</td>\n",
       "      <td>0</td>\n",
       "      <td>1</td>\n",
       "      <td>0</td>\n",
       "      <td>3</td>\n",
       "      <td>1</td>\n",
       "      <td>1</td>\n",
       "      <td>8.050924</td>\n",
       "      <td>9.47025</td>\n",
       "      <td>43.7273</td>\n",
       "      <td>16.636703</td>\n",
       "      <td>1349</td>\n",
       "    </tr>\n",
       "    <tr>\n",
       "      <th>3</th>\n",
       "      <td>1</td>\n",
       "      <td>0</td>\n",
       "      <td>1</td>\n",
       "      <td>0</td>\n",
       "      <td>4</td>\n",
       "      <td>1</td>\n",
       "      <td>1</td>\n",
       "      <td>8.200000</td>\n",
       "      <td>10.60610</td>\n",
       "      <td>59.0435</td>\n",
       "      <td>10.739832</td>\n",
       "      <td>1562</td>\n",
       "    </tr>\n",
       "    <tr>\n",
       "      <th>4</th>\n",
       "      <td>1</td>\n",
       "      <td>0</td>\n",
       "      <td>1</td>\n",
       "      <td>0</td>\n",
       "      <td>5</td>\n",
       "      <td>1</td>\n",
       "      <td>1</td>\n",
       "      <td>9.305237</td>\n",
       "      <td>11.46350</td>\n",
       "      <td>43.6957</td>\n",
       "      <td>12.522300</td>\n",
       "      <td>1600</td>\n",
       "    </tr>\n",
       "  </tbody>\n",
       "</table>\n",
       "</div>\n",
       "      <button class=\"colab-df-convert\" onclick=\"convertToInteractive('df-cb39188b-c208-438a-9de8-94124707f157')\"\n",
       "              title=\"Convert this dataframe to an interactive table.\"\n",
       "              style=\"display:none;\">\n",
       "        \n",
       "  <svg xmlns=\"http://www.w3.org/2000/svg\" height=\"24px\"viewBox=\"0 0 24 24\"\n",
       "       width=\"24px\">\n",
       "    <path d=\"M0 0h24v24H0V0z\" fill=\"none\"/>\n",
       "    <path d=\"M18.56 5.44l.94 2.06.94-2.06 2.06-.94-2.06-.94-.94-2.06-.94 2.06-2.06.94zm-11 1L8.5 8.5l.94-2.06 2.06-.94-2.06-.94L8.5 2.5l-.94 2.06-2.06.94zm10 10l.94 2.06.94-2.06 2.06-.94-2.06-.94-.94-2.06-.94 2.06-2.06.94z\"/><path d=\"M17.41 7.96l-1.37-1.37c-.4-.4-.92-.59-1.43-.59-.52 0-1.04.2-1.43.59L10.3 9.45l-7.72 7.72c-.78.78-.78 2.05 0 2.83L4 21.41c.39.39.9.59 1.41.59.51 0 1.02-.2 1.41-.59l7.78-7.78 2.81-2.81c.8-.78.8-2.07 0-2.86zM5.41 20L4 18.59l7.72-7.72 1.47 1.35L5.41 20z\"/>\n",
       "  </svg>\n",
       "      </button>\n",
       "      \n",
       "  <style>\n",
       "    .colab-df-container {\n",
       "      display:flex;\n",
       "      flex-wrap:wrap;\n",
       "      gap: 12px;\n",
       "    }\n",
       "\n",
       "    .colab-df-convert {\n",
       "      background-color: #E8F0FE;\n",
       "      border: none;\n",
       "      border-radius: 50%;\n",
       "      cursor: pointer;\n",
       "      display: none;\n",
       "      fill: #1967D2;\n",
       "      height: 32px;\n",
       "      padding: 0 0 0 0;\n",
       "      width: 32px;\n",
       "    }\n",
       "\n",
       "    .colab-df-convert:hover {\n",
       "      background-color: #E2EBFA;\n",
       "      box-shadow: 0px 1px 2px rgba(60, 64, 67, 0.3), 0px 1px 3px 1px rgba(60, 64, 67, 0.15);\n",
       "      fill: #174EA6;\n",
       "    }\n",
       "\n",
       "    [theme=dark] .colab-df-convert {\n",
       "      background-color: #3B4455;\n",
       "      fill: #D2E3FC;\n",
       "    }\n",
       "\n",
       "    [theme=dark] .colab-df-convert:hover {\n",
       "      background-color: #434B5C;\n",
       "      box-shadow: 0px 1px 3px 1px rgba(0, 0, 0, 0.15);\n",
       "      filter: drop-shadow(0px 1px 2px rgba(0, 0, 0, 0.3));\n",
       "      fill: #FFFFFF;\n",
       "    }\n",
       "  </style>\n",
       "\n",
       "      <script>\n",
       "        const buttonEl =\n",
       "          document.querySelector('#df-cb39188b-c208-438a-9de8-94124707f157 button.colab-df-convert');\n",
       "        buttonEl.style.display =\n",
       "          google.colab.kernel.accessAllowed ? 'block' : 'none';\n",
       "\n",
       "        async function convertToInteractive(key) {\n",
       "          const element = document.querySelector('#df-cb39188b-c208-438a-9de8-94124707f157');\n",
       "          const dataTable =\n",
       "            await google.colab.kernel.invokeFunction('convertToInteractive',\n",
       "                                                     [key], {});\n",
       "          if (!dataTable) return;\n",
       "\n",
       "          const docLinkHtml = 'Like what you see? Visit the ' +\n",
       "            '<a target=\"_blank\" href=https://colab.research.google.com/notebooks/data_table.ipynb>data table notebook</a>'\n",
       "            + ' to learn more about interactive tables.';\n",
       "          element.innerHTML = '';\n",
       "          dataTable['output_type'] = 'display_data';\n",
       "          await google.colab.output.renderOutput(dataTable, element);\n",
       "          const docLink = document.createElement('div');\n",
       "          docLink.innerHTML = docLinkHtml;\n",
       "          element.appendChild(docLink);\n",
       "        }\n",
       "      </script>\n",
       "    </div>\n",
       "  </div>\n",
       "  "
      ],
      "text/plain": [
       "   season  yr  mnth  holiday  weekday  workingday  weathersit       temp  \\\n",
       "0       1   0     1        0        1           1           2  14.110847   \n",
       "1       1   0     1        0        2           1           2  14.902598   \n",
       "2       1   0     1        0        3           1           1   8.050924   \n",
       "3       1   0     1        0        4           1           1   8.200000   \n",
       "4       1   0     1        0        5           1           1   9.305237   \n",
       "\n",
       "      atemp      hum  windspeed   cnt  \n",
       "0  18.18125  80.5833  10.749882   985  \n",
       "1  17.68695  69.6087  16.652113   801  \n",
       "2   9.47025  43.7273  16.636703  1349  \n",
       "3  10.60610  59.0435  10.739832  1562  \n",
       "4  11.46350  43.6957  12.522300  1600  "
      ]
     },
     "execution_count": 2,
     "metadata": {},
     "output_type": "execute_result"
    }
   ],
   "source": [
    "Kaatru_data = pd.read_csv('/content/Kaatru DataSet.csv', index_col=False)\n",
    "Kaatru_data.head()"
   ]
  },
  {
   "cell_type": "code",
   "execution_count": null,
   "metadata": {
    "id": "7rJgzW_A12I0"
   },
   "outputs": [],
   "source": [
    "print(Kaatru_data)"
   ]
  },
  {
   "cell_type": "markdown",
   "metadata": {
    "id": "BWL2sid3RQ0J"
   },
   "source": [
    "List of features in the `Kaatru_data` dataframe:"
   ]
  },
  {
   "cell_type": "code",
   "execution_count": 4,
   "metadata": {
    "colab": {
     "base_uri": "https://localhost:8080/"
    },
    "id": "Lkp80Squ-Kx0",
    "outputId": "f089f2d3-c6f5-48f1-e7fc-b8a3cc2ed397"
   },
   "outputs": [
    {
     "data": {
      "text/plain": [
       "array(['season', 'yr', 'mnth', 'holiday', 'weekday', 'workingday',\n",
       "       'weathersit', 'temp', 'atemp', 'hum', 'windspeed', 'cnt'],\n",
       "      dtype=object)"
      ]
     },
     "execution_count": 4,
     "metadata": {},
     "output_type": "execute_result"
    }
   ],
   "source": [
    "Kaatru_data.columns.values"
   ]
  },
  {
   "cell_type": "markdown",
   "metadata": {
    "id": "dua5p4akR4yw"
   },
   "source": [
    "For the sake of convenience, another dataframe named `Kaatru_Xdata` is defined, which is devoid of the `cnt` data column."
   ]
  },
  {
   "cell_type": "code",
   "execution_count": 5,
   "metadata": {
    "colab": {
     "base_uri": "https://localhost:8080/",
     "height": 206
    },
    "id": "KqadMiB3-8-0",
    "outputId": "5077e374-82ad-4a29-d822-d92145a0b9b1"
   },
   "outputs": [
    {
     "data": {
      "text/html": [
       "\n",
       "  <div id=\"df-fcb66231-0043-463b-9a2c-ed0e73404615\">\n",
       "    <div class=\"colab-df-container\">\n",
       "      <div>\n",
       "<style scoped>\n",
       "    .dataframe tbody tr th:only-of-type {\n",
       "        vertical-align: middle;\n",
       "    }\n",
       "\n",
       "    .dataframe tbody tr th {\n",
       "        vertical-align: top;\n",
       "    }\n",
       "\n",
       "    .dataframe thead th {\n",
       "        text-align: right;\n",
       "    }\n",
       "</style>\n",
       "<table border=\"1\" class=\"dataframe\">\n",
       "  <thead>\n",
       "    <tr style=\"text-align: right;\">\n",
       "      <th></th>\n",
       "      <th>season</th>\n",
       "      <th>yr</th>\n",
       "      <th>mnth</th>\n",
       "      <th>holiday</th>\n",
       "      <th>weekday</th>\n",
       "      <th>workingday</th>\n",
       "      <th>weathersit</th>\n",
       "      <th>temp</th>\n",
       "      <th>atemp</th>\n",
       "      <th>hum</th>\n",
       "      <th>windspeed</th>\n",
       "    </tr>\n",
       "  </thead>\n",
       "  <tbody>\n",
       "    <tr>\n",
       "      <th>0</th>\n",
       "      <td>1</td>\n",
       "      <td>0</td>\n",
       "      <td>1</td>\n",
       "      <td>0</td>\n",
       "      <td>1</td>\n",
       "      <td>1</td>\n",
       "      <td>2</td>\n",
       "      <td>14.110847</td>\n",
       "      <td>18.18125</td>\n",
       "      <td>80.5833</td>\n",
       "      <td>10.749882</td>\n",
       "    </tr>\n",
       "    <tr>\n",
       "      <th>1</th>\n",
       "      <td>1</td>\n",
       "      <td>0</td>\n",
       "      <td>1</td>\n",
       "      <td>0</td>\n",
       "      <td>2</td>\n",
       "      <td>1</td>\n",
       "      <td>2</td>\n",
       "      <td>14.902598</td>\n",
       "      <td>17.68695</td>\n",
       "      <td>69.6087</td>\n",
       "      <td>16.652113</td>\n",
       "    </tr>\n",
       "    <tr>\n",
       "      <th>2</th>\n",
       "      <td>1</td>\n",
       "      <td>0</td>\n",
       "      <td>1</td>\n",
       "      <td>0</td>\n",
       "      <td>3</td>\n",
       "      <td>1</td>\n",
       "      <td>1</td>\n",
       "      <td>8.050924</td>\n",
       "      <td>9.47025</td>\n",
       "      <td>43.7273</td>\n",
       "      <td>16.636703</td>\n",
       "    </tr>\n",
       "    <tr>\n",
       "      <th>3</th>\n",
       "      <td>1</td>\n",
       "      <td>0</td>\n",
       "      <td>1</td>\n",
       "      <td>0</td>\n",
       "      <td>4</td>\n",
       "      <td>1</td>\n",
       "      <td>1</td>\n",
       "      <td>8.200000</td>\n",
       "      <td>10.60610</td>\n",
       "      <td>59.0435</td>\n",
       "      <td>10.739832</td>\n",
       "    </tr>\n",
       "    <tr>\n",
       "      <th>4</th>\n",
       "      <td>1</td>\n",
       "      <td>0</td>\n",
       "      <td>1</td>\n",
       "      <td>0</td>\n",
       "      <td>5</td>\n",
       "      <td>1</td>\n",
       "      <td>1</td>\n",
       "      <td>9.305237</td>\n",
       "      <td>11.46350</td>\n",
       "      <td>43.6957</td>\n",
       "      <td>12.522300</td>\n",
       "    </tr>\n",
       "  </tbody>\n",
       "</table>\n",
       "</div>\n",
       "      <button class=\"colab-df-convert\" onclick=\"convertToInteractive('df-fcb66231-0043-463b-9a2c-ed0e73404615')\"\n",
       "              title=\"Convert this dataframe to an interactive table.\"\n",
       "              style=\"display:none;\">\n",
       "        \n",
       "  <svg xmlns=\"http://www.w3.org/2000/svg\" height=\"24px\"viewBox=\"0 0 24 24\"\n",
       "       width=\"24px\">\n",
       "    <path d=\"M0 0h24v24H0V0z\" fill=\"none\"/>\n",
       "    <path d=\"M18.56 5.44l.94 2.06.94-2.06 2.06-.94-2.06-.94-.94-2.06-.94 2.06-2.06.94zm-11 1L8.5 8.5l.94-2.06 2.06-.94-2.06-.94L8.5 2.5l-.94 2.06-2.06.94zm10 10l.94 2.06.94-2.06 2.06-.94-2.06-.94-.94-2.06-.94 2.06-2.06.94z\"/><path d=\"M17.41 7.96l-1.37-1.37c-.4-.4-.92-.59-1.43-.59-.52 0-1.04.2-1.43.59L10.3 9.45l-7.72 7.72c-.78.78-.78 2.05 0 2.83L4 21.41c.39.39.9.59 1.41.59.51 0 1.02-.2 1.41-.59l7.78-7.78 2.81-2.81c.8-.78.8-2.07 0-2.86zM5.41 20L4 18.59l7.72-7.72 1.47 1.35L5.41 20z\"/>\n",
       "  </svg>\n",
       "      </button>\n",
       "      \n",
       "  <style>\n",
       "    .colab-df-container {\n",
       "      display:flex;\n",
       "      flex-wrap:wrap;\n",
       "      gap: 12px;\n",
       "    }\n",
       "\n",
       "    .colab-df-convert {\n",
       "      background-color: #E8F0FE;\n",
       "      border: none;\n",
       "      border-radius: 50%;\n",
       "      cursor: pointer;\n",
       "      display: none;\n",
       "      fill: #1967D2;\n",
       "      height: 32px;\n",
       "      padding: 0 0 0 0;\n",
       "      width: 32px;\n",
       "    }\n",
       "\n",
       "    .colab-df-convert:hover {\n",
       "      background-color: #E2EBFA;\n",
       "      box-shadow: 0px 1px 2px rgba(60, 64, 67, 0.3), 0px 1px 3px 1px rgba(60, 64, 67, 0.15);\n",
       "      fill: #174EA6;\n",
       "    }\n",
       "\n",
       "    [theme=dark] .colab-df-convert {\n",
       "      background-color: #3B4455;\n",
       "      fill: #D2E3FC;\n",
       "    }\n",
       "\n",
       "    [theme=dark] .colab-df-convert:hover {\n",
       "      background-color: #434B5C;\n",
       "      box-shadow: 0px 1px 3px 1px rgba(0, 0, 0, 0.15);\n",
       "      filter: drop-shadow(0px 1px 2px rgba(0, 0, 0, 0.3));\n",
       "      fill: #FFFFFF;\n",
       "    }\n",
       "  </style>\n",
       "\n",
       "      <script>\n",
       "        const buttonEl =\n",
       "          document.querySelector('#df-fcb66231-0043-463b-9a2c-ed0e73404615 button.colab-df-convert');\n",
       "        buttonEl.style.display =\n",
       "          google.colab.kernel.accessAllowed ? 'block' : 'none';\n",
       "\n",
       "        async function convertToInteractive(key) {\n",
       "          const element = document.querySelector('#df-fcb66231-0043-463b-9a2c-ed0e73404615');\n",
       "          const dataTable =\n",
       "            await google.colab.kernel.invokeFunction('convertToInteractive',\n",
       "                                                     [key], {});\n",
       "          if (!dataTable) return;\n",
       "\n",
       "          const docLinkHtml = 'Like what you see? Visit the ' +\n",
       "            '<a target=\"_blank\" href=https://colab.research.google.com/notebooks/data_table.ipynb>data table notebook</a>'\n",
       "            + ' to learn more about interactive tables.';\n",
       "          element.innerHTML = '';\n",
       "          dataTable['output_type'] = 'display_data';\n",
       "          await google.colab.output.renderOutput(dataTable, element);\n",
       "          const docLink = document.createElement('div');\n",
       "          docLink.innerHTML = docLinkHtml;\n",
       "          element.appendChild(docLink);\n",
       "        }\n",
       "      </script>\n",
       "    </div>\n",
       "  </div>\n",
       "  "
      ],
      "text/plain": [
       "   season  yr  mnth  holiday  weekday  workingday  weathersit       temp  \\\n",
       "0       1   0     1        0        1           1           2  14.110847   \n",
       "1       1   0     1        0        2           1           2  14.902598   \n",
       "2       1   0     1        0        3           1           1   8.050924   \n",
       "3       1   0     1        0        4           1           1   8.200000   \n",
       "4       1   0     1        0        5           1           1   9.305237   \n",
       "\n",
       "      atemp      hum  windspeed  \n",
       "0  18.18125  80.5833  10.749882  \n",
       "1  17.68695  69.6087  16.652113  \n",
       "2   9.47025  43.7273  16.636703  \n",
       "3  10.60610  59.0435  10.739832  \n",
       "4  11.46350  43.6957  12.522300  "
      ]
     },
     "execution_count": 5,
     "metadata": {},
     "output_type": "execute_result"
    }
   ],
   "source": [
    "Kaatru_Xdata = pd.read_csv('/content/Kaatru XDataSet.csv', index_col=False)\n",
    "Kaatru_Xdata.head()"
   ]
  },
  {
   "cell_type": "code",
   "execution_count": 6,
   "metadata": {
    "id": "82S_xyUQXg7c"
   },
   "outputs": [],
   "source": [
    "Kaatru_data = Kaatru_data.reset_index()\n",
    "Kaatru_Xdata = Kaatru_Xdata.reset_index()"
   ]
  },
  {
   "cell_type": "markdown",
   "metadata": {
    "id": "onpw_rFhSk9I"
   },
   "source": [
    "Below, the dataset is loaded into appropriate variables `X` and `y`."
   ]
  },
  {
   "cell_type": "code",
   "execution_count": 7,
   "metadata": {
    "id": "AFq84-eV9ESf"
   },
   "outputs": [],
   "source": [
    "X = pd.DataFrame(Kaatru_Xdata.iloc[:,[1,2,3,4,5,6,7,8,9,10,11]], columns=Kaatru_Xdata.columns[1:12].values)\n",
    "#Accessing all columns in Kaatru_Xdata using iloc (except index column, with index 0)\n",
    "#Assigning column names\n",
    "y = Kaatru_data.loc[:,\"cnt\"] #cnt data here"
   ]
  },
  {
   "cell_type": "code",
   "execution_count": null,
   "metadata": {
    "id": "Y9mrmnuGDOvq"
   },
   "outputs": [],
   "source": [
    "print(X)"
   ]
  },
  {
   "cell_type": "markdown",
   "metadata": {
    "id": "8EAVulV5S3rI"
   },
   "source": [
    "The arrays with the loaded data are split into test and training sets."
   ]
  },
  {
   "cell_type": "code",
   "execution_count": 9,
   "metadata": {
    "id": "SaSiynZuBgN4"
   },
   "outputs": [],
   "source": [
    "X_train, X_test, y_train, y_test = train_test_split(X, y, test_size=0.25, random_state=42)"
   ]
  },
  {
   "cell_type": "markdown",
   "metadata": {
    "id": "4FSHmOShTBGQ"
   },
   "source": [
    "The below code-block fits the random forest model onto the training data:"
   ]
  },
  {
   "cell_type": "code",
   "execution_count": 10,
   "metadata": {
    "colab": {
     "base_uri": "https://localhost:8080/"
    },
    "id": "Gk7gYsKlCQ5n",
    "outputId": "e5daa6d4-be09-4cff-d24e-b6904c1865bb"
   },
   "outputs": [
    {
     "data": {
      "text/plain": [
       "RandomForestRegressor(n_estimators=150)"
      ]
     },
     "execution_count": 10,
     "metadata": {},
     "output_type": "execute_result"
    }
   ],
   "source": [
    "rf = RandomForestRegressor(n_estimators=150)\n",
    "#n_estimators value should be optimal to prevent underfitting & overfitting\n",
    "rf.fit(X_train, y_train)"
   ]
  },
  {
   "cell_type": "markdown",
   "metadata": {
    "id": "sQ2-wqlmTXhk"
   },
   "source": [
    "Now that the model is created, the feature importance values are pulled from it, and plotted.\n",
    "\n"
   ]
  },
  {
   "cell_type": "code",
   "execution_count": 11,
   "metadata": {
    "colab": {
     "base_uri": "https://localhost:8080/"
    },
    "id": "cKrKfUJiGAkn",
    "outputId": "aeb7e693-f7eb-4721-f0a7-a1f5d496e814"
   },
   "outputs": [
    {
     "name": "stdout",
     "output_type": "stream",
     "text": [
      "[0.07243291 0.27371998 0.02713736 0.00315494 0.01179459 0.00361474\n",
      " 0.01913595 0.32876247 0.16970396 0.06067671 0.02986639]\n",
      "0.9999999999999999\n"
     ]
    }
   ],
   "source": [
    "print(rf.feature_importances_)\n",
    "total = sum(rf.feature_importances_)\n",
    "print(total)"
   ]
  },
  {
   "cell_type": "code",
   "execution_count": 12,
   "metadata": {
    "colab": {
     "base_uri": "https://localhost:8080/",
     "height": 296
    },
    "id": "qrg_sq3eE6Hs",
    "outputId": "7957eef0-138d-41af-fa2d-dcc3642f6b57"
   },
   "outputs": [
    {
     "data": {
      "text/plain": [
       "Text(0.5, 0, 'Feature Importance')"
      ]
     },
     "execution_count": 12,
     "metadata": {},
     "output_type": "execute_result"
    },
    {
     "data": {
      "image/png": "[encoded data removed]",
      "text/plain": [
       "<Figure size 432x288 with 1 Axes>"
      ]
     },
     "metadata": {
      "needs_background": "light"
     },
     "output_type": "display_data"
    }
   ],
   "source": [
    "sort = rf.feature_importances_.argsort()\n",
    "plt.barh(Kaatru_Xdata.columns[1:12].values[sort], rf.feature_importances_[sort])\n",
    "plt.xlabel(\"Feature Importance\")"
   ]
  },
  {
   "cell_type": "markdown",
   "metadata": {
    "id": "RTYg2ZHKQcxN"
   },
   "source": [
    "This graph shows a plot of the feature importance values - they add up to a total of 1, and represent the relative significance of the independent variables in determining/predicting the dependent variable.\n",
    "This feature importance metric is called \"Gini importance\" (or 'mean decrease impurity'). According to this metric, the top 3 features seem to be `temp`, `yr`, and `atemp`. Variables `season` and `hum` come in next in importance."
   ]
  },
  {
   "cell_type": "markdown",
   "metadata": {
    "id": "lv2bW1jY7o1i"
   },
   "source": [
    "### F-Test & Mutual Information:"
   ]
  },
  {
   "cell_type": "markdown",
   "metadata": {
    "id": "6FzhA2VCUHXf"
   },
   "source": [
    "Now, let's try two other ways of scoring feature importance, and see how they compare with each other and with the results from random forest. For regression, we have F-test and mutual information:\n",
    "\n",
    "Mutual information measures mutual dependence between two variables by quantifying the amount of information obtained from one by observing the other. This is calculated through the KL divergence between the joint distribution and the product of the marginal distributions.\n",
    "\n",
    "F-test for ANOVA analyzes how the variance of a variable across the values of another variable compares to itself. If it varies with a significant level, then some values of the second variable are responsible for a considerable part of the variance of the first one, while other values less so.\n",
    "\n",
    "Methods based on the F-test estimate linear dependency between variables and are therefore prone to disregard alinear relationships. Mutual information does not fall into this, but requires more samples to work properly.\n",
    "\n"
   ]
  },
  {
   "cell_type": "markdown",
   "metadata": {
    "id": "Q3KfqrxaZKTd"
   },
   "source": [
    "Below, the `Kaatru_data` dataframe is normalised/standardised, so as to remove the possiblity of skewed results due to different features being on different scales."
   ]
  },
  {
   "cell_type": "code",
   "execution_count": 14,
   "metadata": {
    "colab": {
     "base_uri": "https://localhost:8080/",
     "height": 363
    },
    "id": "bEmUvNEUzBR4",
    "outputId": "40fc66c3-deff-42ce-c7ef-58759de9c6aa"
   },
   "outputs": [
    {
     "data": {
      "text/html": [
       "\n",
       "  <div id=\"df-bbd7d056-a334-457e-b73d-adbab6784c30\">\n",
       "    <div class=\"colab-df-container\">\n",
       "      <div>\n",
       "<style scoped>\n",
       "    .dataframe tbody tr th:only-of-type {\n",
       "        vertical-align: middle;\n",
       "    }\n",
       "\n",
       "    .dataframe tbody tr th {\n",
       "        vertical-align: top;\n",
       "    }\n",
       "\n",
       "    .dataframe thead th {\n",
       "        text-align: right;\n",
       "    }\n",
       "</style>\n",
       "<table border=\"1\" class=\"dataframe\">\n",
       "  <thead>\n",
       "    <tr style=\"text-align: right;\">\n",
       "      <th></th>\n",
       "      <th>index</th>\n",
       "      <th>season</th>\n",
       "      <th>yr</th>\n",
       "      <th>mnth</th>\n",
       "      <th>holiday</th>\n",
       "      <th>weekday</th>\n",
       "      <th>workingday</th>\n",
       "      <th>weathersit</th>\n",
       "      <th>temp</th>\n",
       "      <th>atemp</th>\n",
       "      <th>hum</th>\n",
       "      <th>windspeed</th>\n",
       "      <th>cnt</th>\n",
       "    </tr>\n",
       "  </thead>\n",
       "  <tbody>\n",
       "    <tr>\n",
       "      <th>0</th>\n",
       "      <td>-1.728495</td>\n",
       "      <td>-1.349893</td>\n",
       "      <td>-0.999315</td>\n",
       "      <td>-1.601647</td>\n",
       "      <td>-0.171984</td>\n",
       "      <td>-0.997776</td>\n",
       "      <td>0.669177</td>\n",
       "      <td>1.111365</td>\n",
       "      <td>-0.827046</td>\n",
       "      <td>-0.680351</td>\n",
       "      <td>1.251485</td>\n",
       "      <td>-0.387567</td>\n",
       "      <td>-1.819724</td>\n",
       "    </tr>\n",
       "    <tr>\n",
       "      <th>1</th>\n",
       "      <td>-1.723753</td>\n",
       "      <td>-1.349893</td>\n",
       "      <td>-0.999315</td>\n",
       "      <td>-1.601647</td>\n",
       "      <td>-0.171984</td>\n",
       "      <td>-0.497861</td>\n",
       "      <td>0.669177</td>\n",
       "      <td>1.111365</td>\n",
       "      <td>-0.721574</td>\n",
       "      <td>-0.740999</td>\n",
       "      <td>0.480666</td>\n",
       "      <td>0.748386</td>\n",
       "      <td>-1.914765</td>\n",
       "    </tr>\n",
       "    <tr>\n",
       "      <th>2</th>\n",
       "      <td>-1.719010</td>\n",
       "      <td>-1.349893</td>\n",
       "      <td>-0.999315</td>\n",
       "      <td>-1.601647</td>\n",
       "      <td>-0.171984</td>\n",
       "      <td>0.002054</td>\n",
       "      <td>0.669177</td>\n",
       "      <td>-0.724147</td>\n",
       "      <td>-1.634312</td>\n",
       "      <td>-1.749145</td>\n",
       "      <td>-1.337156</td>\n",
       "      <td>0.745420</td>\n",
       "      <td>-1.631709</td>\n",
       "    </tr>\n",
       "    <tr>\n",
       "      <th>3</th>\n",
       "      <td>-1.714268</td>\n",
       "      <td>-1.349893</td>\n",
       "      <td>-0.999315</td>\n",
       "      <td>-1.601647</td>\n",
       "      <td>-0.171984</td>\n",
       "      <td>0.501970</td>\n",
       "      <td>0.669177</td>\n",
       "      <td>-0.724147</td>\n",
       "      <td>-1.614453</td>\n",
       "      <td>-1.609782</td>\n",
       "      <td>-0.261398</td>\n",
       "      <td>-0.389501</td>\n",
       "      <td>-1.521689</td>\n",
       "    </tr>\n",
       "    <tr>\n",
       "      <th>4</th>\n",
       "      <td>-1.709526</td>\n",
       "      <td>-1.349893</td>\n",
       "      <td>-0.999315</td>\n",
       "      <td>-1.601647</td>\n",
       "      <td>-0.171984</td>\n",
       "      <td>1.001885</td>\n",
       "      <td>0.669177</td>\n",
       "      <td>-0.724147</td>\n",
       "      <td>-1.467220</td>\n",
       "      <td>-1.504584</td>\n",
       "      <td>-1.339375</td>\n",
       "      <td>-0.046445</td>\n",
       "      <td>-1.502061</td>\n",
       "    </tr>\n",
       "    <tr>\n",
       "      <th>5</th>\n",
       "      <td>-1.704784</td>\n",
       "      <td>-1.349893</td>\n",
       "      <td>-0.999315</td>\n",
       "      <td>-1.601647</td>\n",
       "      <td>-0.171984</td>\n",
       "      <td>1.501800</td>\n",
       "      <td>-1.492325</td>\n",
       "      <td>-0.724147</td>\n",
       "      <td>-1.590705</td>\n",
       "      <td>-1.480419</td>\n",
       "      <td>-0.768324</td>\n",
       "      <td>-1.301570</td>\n",
       "      <td>-1.498961</td>\n",
       "    </tr>\n",
       "    <tr>\n",
       "      <th>6</th>\n",
       "      <td>-1.700042</td>\n",
       "      <td>-1.349893</td>\n",
       "      <td>-0.999315</td>\n",
       "      <td>-1.601647</td>\n",
       "      <td>-0.171984</td>\n",
       "      <td>-1.497691</td>\n",
       "      <td>-1.492325</td>\n",
       "      <td>1.111365</td>\n",
       "      <td>-1.633449</td>\n",
       "      <td>-1.629923</td>\n",
       "      <td>-0.905741</td>\n",
       "      <td>-0.280797</td>\n",
       "      <td>-1.548548</td>\n",
       "    </tr>\n",
       "    <tr>\n",
       "      <th>7</th>\n",
       "      <td>-1.695300</td>\n",
       "      <td>-1.349893</td>\n",
       "      <td>-0.999315</td>\n",
       "      <td>-1.601647</td>\n",
       "      <td>-0.171984</td>\n",
       "      <td>-0.997776</td>\n",
       "      <td>0.669177</td>\n",
       "      <td>1.111365</td>\n",
       "      <td>-1.805615</td>\n",
       "      <td>-1.915710</td>\n",
       "      <td>-0.644904</td>\n",
       "      <td>0.983912</td>\n",
       "      <td>-1.833154</td>\n",
       "    </tr>\n",
       "    <tr>\n",
       "      <th>8</th>\n",
       "      <td>-1.690558</td>\n",
       "      <td>-1.349893</td>\n",
       "      <td>-0.999315</td>\n",
       "      <td>-1.601647</td>\n",
       "      <td>-0.171984</td>\n",
       "      <td>-0.497861</td>\n",
       "      <td>0.669177</td>\n",
       "      <td>-0.724147</td>\n",
       "      <td>-1.951264</td>\n",
       "      <td>-2.198392</td>\n",
       "      <td>-1.358971</td>\n",
       "      <td>2.210813</td>\n",
       "      <td>-1.903918</td>\n",
       "    </tr>\n",
       "    <tr>\n",
       "      <th>9</th>\n",
       "      <td>-1.685816</td>\n",
       "      <td>-1.349893</td>\n",
       "      <td>-0.999315</td>\n",
       "      <td>-1.601647</td>\n",
       "      <td>-0.171984</td>\n",
       "      <td>0.002054</td>\n",
       "      <td>0.669177</td>\n",
       "      <td>-0.724147</td>\n",
       "      <td>-1.882991</td>\n",
       "      <td>-1.985437</td>\n",
       "      <td>-1.016568</td>\n",
       "      <td>0.422505</td>\n",
       "      <td>-1.646171</td>\n",
       "    </tr>\n",
       "  </tbody>\n",
       "</table>\n",
       "</div>\n",
       "      <button class=\"colab-df-convert\" onclick=\"convertToInteractive('df-bbd7d056-a334-457e-b73d-adbab6784c30')\"\n",
       "              title=\"Convert this dataframe to an interactive table.\"\n",
       "              style=\"display:none;\">\n",
       "        \n",
       "  <svg xmlns=\"http://www.w3.org/2000/svg\" height=\"24px\"viewBox=\"0 0 24 24\"\n",
       "       width=\"24px\">\n",
       "    <path d=\"M0 0h24v24H0V0z\" fill=\"none\"/>\n",
       "    <path d=\"M18.56 5.44l.94 2.06.94-2.06 2.06-.94-2.06-.94-.94-2.06-.94 2.06-2.06.94zm-11 1L8.5 8.5l.94-2.06 2.06-.94-2.06-.94L8.5 2.5l-.94 2.06-2.06.94zm10 10l.94 2.06.94-2.06 2.06-.94-2.06-.94-.94-2.06-.94 2.06-2.06.94z\"/><path d=\"M17.41 7.96l-1.37-1.37c-.4-.4-.92-.59-1.43-.59-.52 0-1.04.2-1.43.59L10.3 9.45l-7.72 7.72c-.78.78-.78 2.05 0 2.83L4 21.41c.39.39.9.59 1.41.59.51 0 1.02-.2 1.41-.59l7.78-7.78 2.81-2.81c.8-.78.8-2.07 0-2.86zM5.41 20L4 18.59l7.72-7.72 1.47 1.35L5.41 20z\"/>\n",
       "  </svg>\n",
       "      </button>\n",
       "      \n",
       "  <style>\n",
       "    .colab-df-container {\n",
       "      display:flex;\n",
       "      flex-wrap:wrap;\n",
       "      gap: 12px;\n",
       "    }\n",
       "\n",
       "    .colab-df-convert {\n",
       "      background-color: #E8F0FE;\n",
       "      border: none;\n",
       "      border-radius: 50%;\n",
       "      cursor: pointer;\n",
       "      display: none;\n",
       "      fill: #1967D2;\n",
       "      height: 32px;\n",
       "      padding: 0 0 0 0;\n",
       "      width: 32px;\n",
       "    }\n",
       "\n",
       "    .colab-df-convert:hover {\n",
       "      background-color: #E2EBFA;\n",
       "      box-shadow: 0px 1px 2px rgba(60, 64, 67, 0.3), 0px 1px 3px 1px rgba(60, 64, 67, 0.15);\n",
       "      fill: #174EA6;\n",
       "    }\n",
       "\n",
       "    [theme=dark] .colab-df-convert {\n",
       "      background-color: #3B4455;\n",
       "      fill: #D2E3FC;\n",
       "    }\n",
       "\n",
       "    [theme=dark] .colab-df-convert:hover {\n",
       "      background-color: #434B5C;\n",
       "      box-shadow: 0px 1px 3px 1px rgba(0, 0, 0, 0.15);\n",
       "      filter: drop-shadow(0px 1px 2px rgba(0, 0, 0, 0.3));\n",
       "      fill: #FFFFFF;\n",
       "    }\n",
       "  </style>\n",
       "\n",
       "      <script>\n",
       "        const buttonEl =\n",
       "          document.querySelector('#df-bbd7d056-a334-457e-b73d-adbab6784c30 button.colab-df-convert');\n",
       "        buttonEl.style.display =\n",
       "          google.colab.kernel.accessAllowed ? 'block' : 'none';\n",
       "\n",
       "        async function convertToInteractive(key) {\n",
       "          const element = document.querySelector('#df-bbd7d056-a334-457e-b73d-adbab6784c30');\n",
       "          const dataTable =\n",
       "            await google.colab.kernel.invokeFunction('convertToInteractive',\n",
       "                                                     [key], {});\n",
       "          if (!dataTable) return;\n",
       "\n",
       "          const docLinkHtml = 'Like what you see? Visit the ' +\n",
       "            '<a target=\"_blank\" href=https://colab.research.google.com/notebooks/data_table.ipynb>data table notebook</a>'\n",
       "            + ' to learn more about interactive tables.';\n",
       "          element.innerHTML = '';\n",
       "          dataTable['output_type'] = 'display_data';\n",
       "          await google.colab.output.renderOutput(dataTable, element);\n",
       "          const docLink = document.createElement('div');\n",
       "          docLink.innerHTML = docLinkHtml;\n",
       "          element.appendChild(docLink);\n",
       "        }\n",
       "      </script>\n",
       "    </div>\n",
       "  </div>\n",
       "  "
      ],
      "text/plain": [
       "      index    season        yr      mnth   holiday   weekday  workingday  \\\n",
       "0 -1.728495 -1.349893 -0.999315 -1.601647 -0.171984 -0.997776    0.669177   \n",
       "1 -1.723753 -1.349893 -0.999315 -1.601647 -0.171984 -0.497861    0.669177   \n",
       "2 -1.719010 -1.349893 -0.999315 -1.601647 -0.171984  0.002054    0.669177   \n",
       "3 -1.714268 -1.349893 -0.999315 -1.601647 -0.171984  0.501970    0.669177   \n",
       "4 -1.709526 -1.349893 -0.999315 -1.601647 -0.171984  1.001885    0.669177   \n",
       "5 -1.704784 -1.349893 -0.999315 -1.601647 -0.171984  1.501800   -1.492325   \n",
       "6 -1.700042 -1.349893 -0.999315 -1.601647 -0.171984 -1.497691   -1.492325   \n",
       "7 -1.695300 -1.349893 -0.999315 -1.601647 -0.171984 -0.997776    0.669177   \n",
       "8 -1.690558 -1.349893 -0.999315 -1.601647 -0.171984 -0.497861    0.669177   \n",
       "9 -1.685816 -1.349893 -0.999315 -1.601647 -0.171984  0.002054    0.669177   \n",
       "\n",
       "   weathersit      temp     atemp       hum  windspeed       cnt  \n",
       "0    1.111365 -0.827046 -0.680351  1.251485  -0.387567 -1.819724  \n",
       "1    1.111365 -0.721574 -0.740999  0.480666   0.748386 -1.914765  \n",
       "2   -0.724147 -1.634312 -1.749145 -1.337156   0.745420 -1.631709  \n",
       "3   -0.724147 -1.614453 -1.609782 -0.261398  -0.389501 -1.521689  \n",
       "4   -0.724147 -1.467220 -1.504584 -1.339375  -0.046445 -1.502061  \n",
       "5   -0.724147 -1.590705 -1.480419 -0.768324  -1.301570 -1.498961  \n",
       "6    1.111365 -1.633449 -1.629923 -0.905741  -0.280797 -1.548548  \n",
       "7    1.111365 -1.805615 -1.915710 -0.644904   0.983912 -1.833154  \n",
       "8   -0.724147 -1.951264 -2.198392 -1.358971   2.210813 -1.903918  \n",
       "9   -0.724147 -1.882991 -1.985437 -1.016568   0.422505 -1.646171  "
      ]
     },
     "execution_count": 14,
     "metadata": {},
     "output_type": "execute_result"
    }
   ],
   "source": [
    "normal_data = Kaatru_data.copy(deep=True)\n",
    "μ = pd.Series({col: 0 for col in Kaatru_data.columns}, dtype=\"float32\")\n",
    "σ = pd.Series({col: 0 for col in Kaatru_data.columns}, dtype=\"float32\")\n",
    "\n",
    "for col in Kaatru_data.columns:\n",
    "    μ[col] = Kaatru_data[col].mean()\n",
    "    σ[col] = Kaatru_data[col].std()\n",
    "    normal_data[col] = (Kaatru_data[col] - μ[col]) / σ[col]\n",
    "normal_data.head(10)"
   ]
  },
  {
   "cell_type": "markdown",
   "metadata": {
    "id": "WChKmhtd31we"
   },
   "source": [
    "`Kaatru_data normalised`, is named `normal_data` in the above codeblock."
   ]
  },
  {
   "cell_type": "code",
   "execution_count": 15,
   "metadata": {
    "id": "rkw3EM0Ia4Qj"
   },
   "outputs": [],
   "source": [
    "normal_data = normal_data.drop('index', axis=1)"
   ]
  },
  {
   "cell_type": "code",
   "execution_count": 16,
   "metadata": {
    "colab": {
     "base_uri": "https://localhost:8080/",
     "height": 435
    },
    "id": "L_xqB9Q-xSxy",
    "outputId": "3854fc48-7631-4bdd-8ed3-5b1a1d833f45"
   },
   "outputs": [
    {
     "name": "stdout",
     "output_type": "stream",
     "text": [
      "season\n",
      "yr\n",
      "weathersit\n",
      "temp\n",
      "atemp\n",
      "[142.48856573 349.8646524   61.06596762   3.45866847   0.95433134\n",
      "   0.55659014  69.8727044  471.70512519 480.82845154   7.13871076\n",
      "  42.60464256]\n"
     ]
    },
    {
     "data": {
      "text/plain": [
       "Text(0.5, 0, 'Feature Importance')"
      ]
     },
     "execution_count": 16,
     "metadata": {},
     "output_type": "execute_result"
    },
    {
     "data": {
      "image/png": "[encoded data removed]",
      "text/plain": [
       "<Figure size 432x288 with 1 Axes>"
      ]
     },
     "metadata": {
      "needs_background": "light"
     },
     "output_type": "display_data"
    }
   ],
   "source": [
    "from sklearn.feature_selection import SelectKBest, f_regression\n",
    "\n",
    "anova_filter_reg = SelectKBest(f_regression, k=5)\n",
    "anova_filter_reg.fit(normal_data.drop([\"cnt\"], axis=1),\n",
    "                     normal_data[\"cnt\"])\n",
    "\n",
    "for i in anova_filter_reg.get_support(indices=True):\n",
    "    print(normal_data.columns[i])\n",
    "\n",
    "print(anova_filter_reg.scores_)\n",
    "plt.barh(normal_data.columns[0:11].values[sort], anova_filter_reg.scores_[sort])\n",
    "plt.xlabel(\"Feature Importance\")"
   ]
  },
  {
   "cell_type": "markdown",
   "metadata": {
    "id": "iJztvUbtybC6"
   },
   "source": [
    "This tells us that the important variables according to F-test are `atemp`, `temp`, `yr`, and `season`."
   ]
  },
  {
   "cell_type": "code",
   "execution_count": 17,
   "metadata": {
    "colab": {
     "base_uri": "https://localhost:8080/",
     "height": 418
    },
    "id": "1_R6kaRHyY6B",
    "outputId": "96f86539-e3c3-4da1-a3c8-32fcc7d8ab29"
   },
   "outputs": [
    {
     "name": "stdout",
     "output_type": "stream",
     "text": [
      "season\n",
      "yr\n",
      "mnth\n",
      "temp\n",
      "atemp\n",
      "[0.21807281 0.27534466 0.37011371 0.0110516  0.06540104 0.\n",
      " 0.06739826 0.39100022 0.46691076 0.04451606 0.05607438]\n"
     ]
    },
    {
     "data": {
      "text/plain": [
       "Text(0.5, 0, 'Feature Importance')"
      ]
     },
     "execution_count": 17,
     "metadata": {},
     "output_type": "execute_result"
    },
    {
     "data": {
      "image/png": "[encoded data removed]",
      "text/plain": [
       "<Figure size 432x288 with 1 Axes>"
      ]
     },
     "metadata": {
      "needs_background": "light"
     },
     "output_type": "display_data"
    }
   ],
   "source": [
    "from sklearn.feature_selection import mutual_info_regression\n",
    "mi_filter_reg = SelectKBest(mutual_info_regression, k=5)\n",
    "mi_filter_reg.fit(normal_data.drop([\"cnt\"], axis=1),\n",
    "                  normal_data[\"cnt\"])\n",
    "\n",
    "for i in mi_filter_reg.get_support(indices=True):\n",
    "    print(normal_data.columns[i])\n",
    "\n",
    "print(mi_filter_reg.scores_)\n",
    "plt.barh(normal_data.columns[0:11].values[sort], anova_filter_reg.scores_[sort])\n",
    "plt.xlabel(\"Feature Importance\")"
   ]
  },
  {
   "cell_type": "markdown",
   "metadata": {
    "id": "Py7uA4MK0kGu"
   },
   "source": [
    "This tells us that the important variables according to mutual information method, are `atemp`, `temp`, `yr`, and `season`. This corroborates the F-test results, and increases confidence in the earlier idea that these are the important features for determining `cnt`."
   ]
  },
  {
   "cell_type": "markdown",
   "metadata": {
    "id": "z_SPuL9C7ztS"
   },
   "source": [
    "### Analysis using Random Forest Model (input - Normalized Data)"
   ]
  },
  {
   "cell_type": "markdown",
   "metadata": {
    "id": "zweuV5NB0_vw"
   },
   "source": [
    "Now we could try to fit a random forest model on the `normal data` and see if the feature importance changes."
   ]
  },
  {
   "cell_type": "code",
   "execution_count": 18,
   "metadata": {
    "id": "uxcjptey3eXR"
   },
   "outputs": [],
   "source": [
    "X_normal = pd.DataFrame(normal_data.iloc[:,[0,1,2,3,4,5,6,7,8,9,10,11]], columns=normal_data.columns[0:11].values)\n",
    "#Accessing all columns in Kaatru_Xdata using iloc (except index column, with index 0)\n",
    "#Understand why only using [1:12] in column index lets access all 11 columns?? that's how basic array indexing works. (Drill it)\n",
    "#Assigning column names\n",
    "y_normal = normal_data.loc[:,\"cnt\"] #cnt data here"
   ]
  },
  {
   "cell_type": "code",
   "execution_count": 19,
   "metadata": {
    "colab": {
     "base_uri": "https://localhost:8080/"
    },
    "id": "ozZeEubr3mN6",
    "outputId": "8bdef7c1-131c-44e3-8e4e-80567a06b54a"
   },
   "outputs": [
    {
     "name": "stdout",
     "output_type": "stream",
     "text": [
      "       season        yr      mnth   holiday   weekday  workingday  weathersit  \\\n",
      "0   -1.349893 -0.999315 -1.601647 -0.171984 -0.997776    0.669177    1.111365   \n",
      "1   -1.349893 -0.999315 -1.601647 -0.171984 -0.497861    0.669177    1.111365   \n",
      "2   -1.349893 -0.999315 -1.601647 -0.171984  0.002054    0.669177   -0.724147   \n",
      "3   -1.349893 -0.999315 -1.601647 -0.171984  0.501970    0.669177   -0.724147   \n",
      "4   -1.349893 -0.999315 -1.601647 -0.171984  1.001885    0.669177   -0.724147   \n",
      "..        ...       ...       ...       ...       ...         ...         ...   \n",
      "725 -1.349893  0.999315  1.586560 -0.171984  1.001885    0.669177    1.111365   \n",
      "726 -1.349893  0.999315  1.586560 -0.171984  1.501800   -1.492325    1.111365   \n",
      "727 -1.349893  0.999315  1.586560 -0.171984 -1.497691   -1.492325    1.111365   \n",
      "728 -1.349893  0.999315  1.586560 -0.171984 -0.997776    0.669177   -0.724147   \n",
      "729 -1.349893  0.999315  1.586560 -0.171984 -0.497861    0.669177    1.111365   \n",
      "\n",
      "         temp     atemp       hum  windspeed  \n",
      "0   -0.827046 -0.680351  1.251485  -0.387567  \n",
      "1   -0.721574 -0.740999  0.480666   0.748386  \n",
      "2   -1.634312 -1.749145 -1.337156   0.745420  \n",
      "3   -1.614453 -1.609782 -0.261398  -0.389501  \n",
      "4   -1.467220 -1.504584 -1.339375  -0.046445  \n",
      "..        ...       ...       ...        ...  \n",
      "725 -1.318605 -1.520706  0.177455   2.058433  \n",
      "726 -1.323160 -1.346455 -0.264453  -0.451719  \n",
      "727 -1.323160 -1.424035  0.879821  -0.852597  \n",
      "728 -1.309506 -1.489677 -1.013646   2.066441  \n",
      "729 -1.527977 -1.540061 -0.352249  -0.459779  \n",
      "\n",
      "[730 rows x 11 columns]\n"
     ]
    }
   ],
   "source": [
    "print(X_normal)"
   ]
  },
  {
   "cell_type": "code",
   "execution_count": 20,
   "metadata": {
    "id": "Q-nsGJC14oYc"
   },
   "outputs": [],
   "source": [
    "X_train_norm, X_test_norm, y_train_norm, y_test_norm = train_test_split(X_normal, y_normal, test_size=0.25, random_state=42)"
   ]
  },
  {
   "cell_type": "code",
   "execution_count": 21,
   "metadata": {
    "colab": {
     "base_uri": "https://localhost:8080/"
    },
    "id": "548BAPaZ40ae",
    "outputId": "248d7153-27d9-47ce-95d8-78231d799756"
   },
   "outputs": [
    {
     "data": {
      "text/plain": [
       "RandomForestRegressor(n_estimators=150)"
      ]
     },
     "execution_count": 21,
     "metadata": {},
     "output_type": "execute_result"
    }
   ],
   "source": [
    "rf = RandomForestRegressor(n_estimators=150)\n",
    "rf.fit(X_train_norm, y_train_norm)"
   ]
  },
  {
   "cell_type": "code",
   "execution_count": 22,
   "metadata": {
    "colab": {
     "base_uri": "https://localhost:8080/"
    },
    "id": "FVYZbt7F48D9",
    "outputId": "736efb04-b912-46ef-e83b-5c957021c372"
   },
   "outputs": [
    {
     "name": "stdout",
     "output_type": "stream",
     "text": [
      "[0.07123101 0.27484795 0.02621575 0.0034526  0.01189821 0.00329313\n",
      " 0.02050458 0.32948916 0.16588731 0.06166876 0.03151155]\n",
      "1.0\n"
     ]
    }
   ],
   "source": [
    "print(rf.feature_importances_)\n",
    "total = sum(rf.feature_importances_)\n",
    "print(total)"
   ]
  },
  {
   "cell_type": "markdown",
   "metadata": {
    "id": "BD5MXU936xX_"
   },
   "source": [
    "It can be seen that the feature importance values ascertained here based on standardised data are very close to the values ascertained earlier based on raw data."
   ]
  },
  {
   "cell_type": "code",
   "execution_count": 23,
   "metadata": {
    "colab": {
     "base_uri": "https://localhost:8080/",
     "height": 296
    },
    "id": "icVHWxkg4_n7",
    "outputId": "4f510570-3f47-43d4-f63e-abf4e245fc76"
   },
   "outputs": [
    {
     "data": {
      "text/plain": [
       "Text(0.5, 0, 'Feature Importance')"
      ]
     },
     "execution_count": 23,
     "metadata": {},
     "output_type": "execute_result"
    },
    {
     "data": {
      "image/png": "[encoded data removed]",
      "text/plain": [
       "<Figure size 432x288 with 1 Axes>"
      ]
     },
     "metadata": {
      "needs_background": "light"
     },
     "output_type": "display_data"
    }
   ],
   "source": [
    "sort = rf.feature_importances_.argsort()\n",
    "plt.barh(normal_data.columns[0:11].values[sort], rf.feature_importances_[sort])\n",
    "plt.xlabel(\"Feature Importance\")"
   ]
  },
  {
   "cell_type": "markdown",
   "metadata": {
    "id": "HL63DenO_IN5"
   },
   "source": [
    "Again, the important variables according to this analysis, are primarily `temp`, `yr` and `atemp`, followed by `season` and `hum`."
   ]
  },
  {
   "cell_type": "markdown",
   "metadata": {
    "id": "iyY6IHQu7JNZ"
   },
   "source": [
    "### Concluding Remarks:"
   ]
  },
  {
   "cell_type": "markdown",
   "metadata": {
    "id": "DzeNi7sec_R1"
   },
   "source": [
    "Three different modes have been employed in this analysis so as to cross-check the accuracy of feature importance order. The convergent solution suggests that `temp`, `atemp`, and `yr` are the top 3 most important features in this dataset, that predict for `cnt`. Among these 3 the exact order of importance is unclear; since the 3 different analyses lead to slight different ranks. A more accurate importance rank can be assigned after model accuracy is increased throguh hyperparameter tuning. As of now, however, this analysis answers the given problem statement, and can be used to reduce feature space and create a better model.\n",
    "\n",
    "Thanks for reading!"
   ]
  }
 ],
 "metadata": {
  "colab": {
   "collapsed_sections": [],
   "name": "Kaatru DataSet Analysis.ipynb",
   "provenance": []
  },
  "kernelspec": {
   "display_name": "Python 3 (ipykernel)",
   "language": "python",
   "name": "python3"
  },
  "language_info": {
   "codemirror_mode": {
    "name": "ipython",
    "version": 3
   },
   "file_extension": ".py",
   "mimetype": "text/x-python",
   "name": "python",
   "nbconvert_exporter": "python",
   "pygments_lexer": "ipython3",
   "version": "3.7.13"
  }
 },
 "nbformat": 4,
 "nbformat_minor": 1
}
